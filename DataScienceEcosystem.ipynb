{
 "cells": [
  {
   "cell_type": "markdown",
   "id": "d57efa5d-41af-4f90-90b7-8d542191caa0",
   "metadata": {},
   "source": [
    "<h1>Data Science Tools and Ecosystem</h1>"
   ]
  },
  {
   "cell_type": "markdown",
   "id": "1555fae2-c961-4a1b-a6ae-29955f3366f2",
   "metadata": {},
   "source": [
    "**Objectives:**<br>\n",
    "<ul>\n",
    "  <li>List popular languages for Data Science</li>\n",
    "  <li>List popular libraries for Data Science</li>\n",
    "  <li>List open source tools for Data Science</li>\n",
    "  <li>Perform some basic arithmetic</li>\n",
    "</ul>"
   ]
  },
  {
   "cell_type": "markdown",
   "id": "aabd34d0-8b09-4bf3-86fe-b9aaf7fee207",
   "metadata": {},
   "source": [
    "In this notebook, Data Science Tools and Ecosystem are summarized."
   ]
  },
  {
   "cell_type": "markdown",
   "id": "30e00156-388d-4226-a543-f9d40442e837",
   "metadata": {},
   "source": [
    "Some of the popular languages that Data Scientists use are:\n",
    "<ol>\n",
    "  <li>Python</li>\n",
    "  <li>R</li>\n",
    "  <li>Julia</li>\n",
    "  <li>SQL</li>\n",
    "    <li>JavaScript</li>\n",
    "</ol>"
   ]
  },
  {
   "cell_type": "markdown",
   "id": "a2b5fe17-acdb-43a2-bb56-ec70ef36e87e",
   "metadata": {},
   "source": [
    "Some of the commonly used libraries used by Data Scientists include:\n",
    "<ol>\n",
    "  <li>TensorFlow</li>\n",
    "  <li>Pandas </li>\n",
    "  <li>NumPy</li>\n",
    "  <li>Pytorch</li>\n",
    "  <li>Matplotlib</li>\n",
    "</ol>"
   ]
  },
  {
   "cell_type": "markdown",
   "id": "fca56cf3-6ea3-4d36-9aad-e94827537453",
   "metadata": {},
   "source": [
    "| Data Science Tools      |\n",
    "| ----------- |\n",
    "| GitHub |\n",
    "| Jupyter Notebooks |\n",
    "| RStudio IDE |"
   ]
  },
  {
   "cell_type": "markdown",
   "id": "7a229251-e81e-4310-a6c5-f505f9fcff07",
   "metadata": {},
   "source": [
    "<h3>Below are a few examples of evaluating arithmetic expressions in Python</h3>"
   ]
  },
  {
   "cell_type": "code",
   "execution_count": 2,
   "id": "d7bd61dd-b5c5-4063-bbde-14cf3bf8babe",
   "metadata": {},
   "outputs": [
    {
     "data": {
      "text/plain": [
       "17"
      ]
     },
     "execution_count": 2,
     "metadata": {},
     "output_type": "execute_result"
    }
   ],
   "source": [
    "# This a simple arithmetic expression to mutiply then add integers\n",
    "(3*4)+5"
   ]
  },
  {
   "cell_type": "code",
   "execution_count": 5,
   "id": "fa7ec753-e488-4efa-a64f-169088926966",
   "metadata": {},
   "outputs": [
    {
     "data": {
      "text/plain": [
       "3.3333333333333335"
      ]
     },
     "execution_count": 5,
     "metadata": {},
     "output_type": "execute_result"
    }
   ],
   "source": [
    "# This will convert 200 minutes to hours by diving by 60\n",
    "200/60"
   ]
  },
  {
   "cell_type": "markdown",
   "id": "6fd0a695-03f3-4963-bf0f-d258a557e7fb",
   "metadata": {},
   "source": [
    "<h2>Author</h2>\n",
    "Kai Schofield"
   ]
  },
  {
   "cell_type": "code",
   "execution_count": null,
   "id": "dc1fdc1e-dd13-4ecb-b1c6-512b290cc65f",
   "metadata": {},
   "outputs": [],
   "source": []
  }
 ],
 "metadata": {
  "kernelspec": {
   "display_name": "Python",
   "language": "python",
   "name": "conda-env-python-py"
  },
  "language_info": {
   "codemirror_mode": {
    "name": "ipython",
    "version": 3
   },
   "file_extension": ".py",
   "mimetype": "text/x-python",
   "name": "python",
   "nbconvert_exporter": "python",
   "pygments_lexer": "ipython3",
   "version": "3.7.12"
  }
 },
 "nbformat": 4,
 "nbformat_minor": 5
}
